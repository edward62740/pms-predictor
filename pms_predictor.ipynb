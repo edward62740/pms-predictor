{
  "nbformat": 4,
  "nbformat_minor": 0,
  "metadata": {
    "colab": {
      "name": "pms-predictor.ipynb",
      "provenance": [],
      "collapsed_sections": []
    },
    "kernelspec": {
      "name": "python3",
      "display_name": "Python 3"
    },
    "language_info": {
      "name": "python"
    },
    "accelerator": "GPU",
    "gpuClass": "standard"
  },
  "cells": [
    {
      "cell_type": "code",
      "execution_count": 1,
      "metadata": {
        "colab": {
          "base_uri": "https://localhost:8080/"
        },
        "id": "8B4p0hvHrdUF",
        "outputId": "11d02c78-b8ad-4ff6-a894-216adedeacab"
      },
      "outputs": [
        {
          "output_type": "stream",
          "name": "stdout",
          "text": [
            "`%tensorflow_version` only switches the major version: 1.x or 2.x.\n",
            "You set: `2`. This will be interpreted as: `2.x`.\n",
            "\n",
            "\n",
            "TensorFlow 2.x selected.\n"
          ]
        }
      ],
      "source": [
        "%tensorflow_version 2"
      ]
    },
    {
      "cell_type": "code",
      "source": [
        "import tensorflow as tf\n",
        "import numpy as np\n",
        "import matplotlib.pyplot as plt\n",
        "import math\n",
        "import csv\n",
        "import pandas as pd\n",
        "from tensorflow.keras import layers\n",
        "\n",
        "file = open('training data.csv')\n",
        "\n",
        "type(file)\n",
        "csvreader = csv.reader(file)\n",
        "pm01, pm25, pm10, time = [], [], [], []\n",
        "for row in csvreader:\n",
        "   if len(row) == 4:\n",
        "     if row[3] == \"PM0.1\":\n",
        "           pm01.append(float(row[1]))\n",
        "           time.append(row[0])\n",
        "     elif row[3] == \"PM2.5\":\n",
        "           pm25.append(float(row[1]))\n",
        "     elif row[3] == \"PM1.0\":\n",
        "           pm10.append(float(row[1]))\n",
        "dt = pd.DataFrame({'Date': time, 'PM2.5': pm25, 'PM1.0': pm10})\n",
        "dt['Date'] = pd.to_datetime(dt['Date']).dt.tz_convert(None)\n",
        "plt.plot(dt['Date'], dt['PM2.5'])\n",
        "plt.plot(dt['Date'], dt['PM1.0'])\n",
        "plt.show()"
      ],
      "metadata": {
        "colab": {
          "base_uri": "https://localhost:8080/",
          "height": 265
        },
        "id": "iJ6guW2utItL",
        "outputId": "396cf2b8-8628-4e14-8092-cc2145cd36bc"
      },
      "execution_count": null,
      "outputs": [
        {
          "output_type": "display_data",
          "data": {
            "text/plain": [
              "<Figure size 432x288 with 1 Axes>"
            ],
            "image/png": "[encoded data removed]"
          },
          "metadata": {
            "needs_background": "light"
          }
        }
      ]
    },
    {
      "cell_type": "code",
      "source": [
        "time_index = np.array(dt['Date'])\n",
        "data = np.array(dt['PM2.5'])\n",
        "\n",
        "SPLIT_RATIO = 0.8\n",
        "\n",
        "# Dividing into train-test split\n",
        "\n",
        "split_index = int(SPLIT_RATIO * data.shape[0])\n",
        "\n",
        "# Train-Test Split\n",
        "train_data = data[:split_index]\n",
        "train_time = time_index[:split_index]\n",
        "test_data = data[split_index:]\n",
        "test_time = time_index[split_index:]\n",
        "\n",
        "WINDOW_SIZE = 60\n",
        "BATCH_SIZE = 32\n",
        "SHUFFLE_BUFFER = 1000\n",
        "\n",
        "## function to create the input features\n",
        "\n",
        "def ts_data_generator(data, window_size, batch_size, shuffle_buffer):\n",
        "\n",
        "   ts_data = tf.data.Dataset.from_tensor_slices(data)\n",
        "   ts_data = ts_data.window(window_size + 1, shift=1, drop_remainder=True)\n",
        "   ts_data = ts_data.flat_map(lambda window: window.batch(window_size + 1))\n",
        "   ts_data = ts_data.shuffle(shuffle_buffer).map(lambda window: (window[:-1], window[-1]))\n",
        "   ts_data = ts_data.batch(batch_size).prefetch(1)\n",
        "   return ts_data# Expanding data into tensors\n",
        "\n",
        "tensor_train_data = tf.expand_dims(train_data, axis=-1)\n",
        "tensor_test_data = tf.expand_dims(test_data, axis=-1)\n",
        "\n",
        "\n",
        "## generate input and output features for training and testing set\n",
        "\n",
        "tensor_train_dataset = ts_data_generator(tensor_train_data, WINDOW_SIZE, BATCH_SIZE, SHUFFLE_BUFFER)\n",
        "tensor_test_dataset = ts_data_generator(tensor_test_data, WINDOW_SIZE, BATCH_SIZE, SHUFFLE_BUFFER)\n",
        "\n",
        "\n",
        "model = tf.keras.models.Sequential([tf.keras.layers.Conv1D(filters=32, kernel_size=5,strides=1, padding=\"causal\",activation=\"relu\",\n",
        "   input_shape=[None, 1]),\n",
        "   tf.keras.layers.LSTM(64, return_sequences=True),\n",
        "   tf.keras.layers.LSTM(64, return_sequences=True),\n",
        "   tf.keras.layers.Dense(30, activation=\"relu\"),\n",
        "   tf.keras.layers.Dense(10, activation=\"relu\"),\n",
        "   tf.keras.layers.Dense(1)])\n",
        "\n",
        "optimizer = tf.keras.optimizers.SGD(learning_rate=1e-4, momentum=0.9)\n",
        "model.summary()\n",
        "model.compile(loss=tf.keras.losses.Huber(), optimizer=optimizer, metrics=[\"mae\"])\n",
        "\n",
        "history = model.fit(tensor_train_dataset, epochs=4, validation_data=tensor_test_dataset)\n",
        "\n",
        "plt.plot(history.history['loss'])\n",
        "plt.plot(history.history['val_loss'])\n",
        "plt.title('model loss')\n",
        "plt.ylabel('loss')\n",
        "plt.xlabel('epoch')\n",
        "plt.legend(['train', 'test'], loc='upper left')\n",
        "plt.show()\n"
      ],
      "metadata": {
        "colab": {
          "base_uri": "https://localhost:8080/",
          "height": 810
        },
        "id": "CDWeoAfuh1CG",
        "outputId": "483e16c2-a71c-4fb7-b94d-264ce9f1729c"
      },
      "execution_count": null,
      "outputs": [
        {
          "output_type": "stream",
          "name": "stdout",
          "text": [
            "Model: \"sequential_3\"\n",
            "_________________________________________________________________\n",
            " Layer (type)                Output Shape              Param #   \n",
            "=================================================================\n",
            " conv1d_3 (Conv1D)           (None, None, 32)          192       \n",
            "                                                                 \n",
            " lstm_6 (LSTM)               (None, None, 64)          24832     \n",
            "                                                                 \n",
            " lstm_7 (LSTM)               (None, None, 64)          33024     \n",
            "                                                                 \n",
            " dense_9 (Dense)             (None, None, 30)          1950      \n",
            "                                                                 \n",
            " dense_10 (Dense)            (None, None, 10)          310       \n",
            "                                                                 \n",
            " dense_11 (Dense)            (None, None, 1)           11        \n",
            "                                                                 \n",
            "=================================================================\n",
            "Total params: 60,319\n",
            "Trainable params: 60,319\n",
            "Non-trainable params: 0\n",
            "_________________________________________________________________\n",
            "Epoch 1/4\n",
            "3832/3832 [==============================] - 68s 17ms/step - loss: 5.5146 - mae: 5.9625 - val_loss: 2.0531 - val_mae: 2.5044\n",
            "Epoch 2/4\n",
            "3832/3832 [==============================] - 63s 16ms/step - loss: 1.7124 - mae: 2.1477 - val_loss: 1.8643 - val_mae: 2.3094\n",
            "Epoch 3/4\n",
            "3832/3832 [==============================] - 63s 16ms/step - loss: 1.6770 - mae: 2.1114 - val_loss: 1.9165 - val_mae: 2.3650\n",
            "Epoch 4/4\n",
            "3832/3832 [==============================] - 64s 17ms/step - loss: 1.6677 - mae: 2.1023 - val_loss: 2.0017 - val_mae: 2.4535\n"
          ]
        },
        {
          "output_type": "display_data",
          "data": {
            "text/plain": [
              "<Figure size 432x288 with 1 Axes>"
            ],
            "image/png": "[encoded data removed]"
          },
          "metadata": {
            "needs_background": "light"
          }
        }
      ]
    },
    {
      "cell_type": "code",
      "source": [
        "import random\n",
        "data = np.array(pm10)\n",
        "def model_forecast(model, data, window_size):\n",
        "   \n",
        "   ds = tf.data.Dataset.from_tensor_slices(data)\n",
        "   ds = ds.window(window_size, shift=1, drop_remainder=True)\n",
        "   ds = ds.flat_map(lambda w: w.batch(window_size))\n",
        "   ds = ds.batch(32).prefetch(1)\n",
        "   forecast = model.predict(ds)\n",
        "   return forecast\n",
        "\n",
        "\n",
        "rnn_forecast = model_forecast(model, data[..., np.newaxis], WINDOW_SIZE)\n",
        "rnn_forecast = rnn_forecast[split_index - WINDOW_SIZE:-1, -1, 0]\n",
        "\n",
        "plt.plot(50)\n",
        "plt.plot(rnn_forecast)\n",
        "plt.title('model loss')\n",
        "plt.ylabel('loss')\n",
        "plt.xlabel('epoch')\n",
        "plt.legend(['test', 'predictions'], loc='upper left')\n",
        "plt.show()"
      ],
      "metadata": {
        "colab": {
          "base_uri": "https://localhost:8080/",
          "height": 235
        },
        "id": "u_8j5MNIvFkc",
        "outputId": "88b34fa6-18f5-4c6b-bf42-72c725a0b565"
      },
      "execution_count": 3,
      "outputs": [
        {
          "output_type": "error",
          "ename": "NameError",
          "evalue": "ignored",
          "traceback": [
            "\u001b[0;31m---------------------------------------------------------------------------\u001b[0m",
            "\u001b[0;31mNameError\u001b[0m                                 Traceback (most recent call last)",
            "\u001b[0;32m<ipython-input-3-99acba628848>\u001b[0m in \u001b[0;36m<module>\u001b[0;34m()\u001b[0m\n\u001b[1;32m      1\u001b[0m \u001b[0;32mimport\u001b[0m \u001b[0mrandom\u001b[0m\u001b[0;34m\u001b[0m\u001b[0;34m\u001b[0m\u001b[0m\n\u001b[0;32m----> 2\u001b[0;31m \u001b[0mdata\u001b[0m \u001b[0;34m=\u001b[0m \u001b[0mnp\u001b[0m\u001b[0;34m.\u001b[0m\u001b[0marray\u001b[0m\u001b[0;34m(\u001b[0m\u001b[0mpm10\u001b[0m\u001b[0;34m)\u001b[0m\u001b[0;34m\u001b[0m\u001b[0;34m\u001b[0m\u001b[0m\n\u001b[0m\u001b[1;32m      3\u001b[0m \u001b[0;32mdef\u001b[0m \u001b[0mmodel_forecast\u001b[0m\u001b[0;34m(\u001b[0m\u001b[0mmodel\u001b[0m\u001b[0;34m,\u001b[0m \u001b[0mdata\u001b[0m\u001b[0;34m,\u001b[0m \u001b[0mwindow_size\u001b[0m\u001b[0;34m)\u001b[0m\u001b[0;34m:\u001b[0m\u001b[0;34m\u001b[0m\u001b[0;34m\u001b[0m\u001b[0m\n\u001b[1;32m      4\u001b[0m \u001b[0;34m\u001b[0m\u001b[0m\n\u001b[1;32m      5\u001b[0m    \u001b[0mds\u001b[0m \u001b[0;34m=\u001b[0m \u001b[0mtf\u001b[0m\u001b[0;34m.\u001b[0m\u001b[0mdata\u001b[0m\u001b[0;34m.\u001b[0m\u001b[0mDataset\u001b[0m\u001b[0;34m.\u001b[0m\u001b[0mfrom_tensor_slices\u001b[0m\u001b[0;34m(\u001b[0m\u001b[0mdata\u001b[0m\u001b[0;34m)\u001b[0m\u001b[0;34m\u001b[0m\u001b[0;34m\u001b[0m\u001b[0m\n",
            "\u001b[0;31mNameError\u001b[0m: name 'np' is not defined"
          ]
        }
      ]
    },
    {
      "cell_type": "code",
      "source": [
        "converter = tf.lite.TFLiteConverter.from_keras_model(model)\n",
        "converter.optimizations = [tf.lite.Optimize.DEFAULT]\n",
        "converter.experimental_new_converter=True\n",
        "converter.target_spec.supported_ops = [tf.lite.OpsSet.TFLITE_BUILTINS,\n",
        "tf.lite.OpsSet.SELECT_TF_OPS]\n",
        "\n",
        "tfmodel = converter.convert()\n",
        "open ('pms-predictor.tflite', 'wb').write(tfmodel)"
      ],
      "metadata": {
        "colab": {
          "base_uri": "https://localhost:8080/"
        },
        "id": "ISw13dgnv4Vj",
        "outputId": "ad9b538c-6c6d-4d5f-aec6-1fd65a890d37"
      },
      "execution_count": null,
      "outputs": [
        {
          "output_type": "stream",
          "name": "stderr",
          "text": [
            "WARNING:absl:Found untraced functions such as lstm_cell_4_layer_call_fn, lstm_cell_4_layer_call_and_return_conditional_losses, lstm_cell_5_layer_call_fn, lstm_cell_5_layer_call_and_return_conditional_losses while saving (showing 4 of 4). These functions will not be directly callable after loading.\n"
          ]
        },
        {
          "output_type": "stream",
          "name": "stdout",
          "text": [
            "INFO:tensorflow:Assets written to: /tmp/tmp4qagdubm/assets\n"
          ]
        },
        {
          "output_type": "stream",
          "name": "stderr",
          "text": [
            "INFO:tensorflow:Assets written to: /tmp/tmp4qagdubm/assets\n",
            "WARNING:absl:Buffer deduplication procedure will be skipped when flatbuffer library is not properly loaded\n"
          ]
        },
        {
          "output_type": "execute_result",
          "data": {
            "text/plain": [
              "88944"
            ]
          },
          "metadata": {},
          "execution_count": 16
        }
      ]
    }
  ]
}